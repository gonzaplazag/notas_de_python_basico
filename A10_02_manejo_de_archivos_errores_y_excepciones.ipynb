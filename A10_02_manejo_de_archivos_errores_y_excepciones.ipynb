{
 "metadata": {
  "language_info": {
   "codemirror_mode": {
    "name": "ipython",
    "version": 3
   },
   "file_extension": ".py",
   "mimetype": "text/x-python",
   "name": "python",
   "nbconvert_exporter": "python",
   "pygments_lexer": "ipython3",
   "version": "3.8.5-final"
  },
  "orig_nbformat": 2,
  "kernelspec": {
   "name": "python3",
   "display_name": "Python 3"
  }
 },
 "nbformat": 4,
 "nbformat_minor": 2,
 "cells": [
  {
   "source": [
    "# Manejo de errores y excepciones\n",
    "\n",
    "Al ejecutar un programa pueden surgir errores. En Python existe un tipo de objeto denominado *excepciones* para poder administrar estos errores y no paralizar la ejecución del programa.\n",
    "\n",
    "La forma de manejar las excepciones en Python es mediante la secuencia #try-except#\n",
    "\n"
   ],
   "cell_type": "markdown",
   "metadata": {}
  },
  {
   "cell_type": "code",
   "execution_count": 2,
   "metadata": {},
   "outputs": [
    {
     "output_type": "stream",
     "name": "stdout",
     "text": [
      "no es posible dividir por cero\n"
     ]
    }
   ],
   "source": [
    "# i. caso básico\n",
    "try: \n",
    "    print(3/0)\n",
    "except ZeroDivisionError:\n",
    "    print(\"no es posible dividir por cero\")"
   ]
  },
  {
   "cell_type": "code",
   "execution_count": 7,
   "metadata": {},
   "outputs": [
    {
     "output_type": "stream",
     "name": "stdout",
     "text": [
      "Introducir dos números. El programa realizará la división: \nIntroducir 'q' para escapar.\n"
     ]
    }
   ],
   "source": [
    "# ii. caso de uso try-except-else\n",
    "print(\"Introducir dos números. El programa realizará la división: \")\n",
    "print(\"Introducir 'q' para escapar.\")\n",
    "\n",
    "while True:\n",
    "    first_number = input(\"\\n Primer numero: \")\n",
    "    if first_number == 'q':\n",
    "        break\n",
    "    second_number = input(\"\\n Segundo numero: \")\n",
    "    try: \n",
    "        if second_number == 'q':\n",
    "            break\n",
    "        answer = int(first_number)/int(second_number)\n",
    "    except ZeroDivisionError:\n",
    "        print(\"No es posible dividir por cero\")\n",
    "    else: # el codigo que debe seguir si el try se cumple sigue en el else.\n",
    "        print(answer)\n"
   ]
  },
  {
   "cell_type": "code",
   "execution_count": 8,
   "metadata": {},
   "outputs": [],
   "source": [
    "# iii. Caso de uso failing silently\n",
    "try:\n",
    "    print(3/0)\n",
    "except ZeroDivisionError:\n",
    "    pass # el comando pass me permite failing silently"
   ]
  },
  {
   "cell_type": "code",
   "execution_count": null,
   "metadata": {},
   "outputs": [],
   "source": []
  }
 ]
}