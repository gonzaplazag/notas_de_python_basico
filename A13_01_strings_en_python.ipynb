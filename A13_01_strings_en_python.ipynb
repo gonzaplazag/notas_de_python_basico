{
 "metadata": {
  "language_info": {
   "codemirror_mode": {
    "name": "ipython",
    "version": 3
   },
   "file_extension": ".py",
   "mimetype": "text/x-python",
   "name": "python",
   "nbconvert_exporter": "python",
   "pygments_lexer": "ipython3",
   "version": "3.8.5-final"
  },
  "orig_nbformat": 2,
  "kernelspec": {
   "name": "python3",
   "display_name": "Python 3"
  }
 },
 "nbformat": 4,
 "nbformat_minor": 2,
 "cells": [
  {
   "source": [
    "# Strings en Python\n",
    "## A. Cuestiones básicas"
   ],
   "cell_type": "markdown",
   "metadata": {}
  },
  {
   "cell_type": "code",
   "execution_count": 6,
   "metadata": {},
   "outputs": [
    {
     "output_type": "stream",
     "name": "stdout",
     "text": [
      "esta es la primera mitad del texto de dos mitades\nEsta cadena no termina con un salto...\nEsta termina con un numeral#"
     ]
    }
   ],
   "source": [
    "# las string se concatenan con + \n",
    "print('esta es la primera mitad' + ' del texto de dos mitades')\n",
    "\n",
    "# se puede explicitar el final de la cadena de texto del print\n",
    "print('Esta cadena no termina con un salto...', end = '\\n')\n",
    "print('Esta termina con un numeral', end = '#')"
   ]
  },
  {
   "cell_type": "code",
   "execution_count": null,
   "metadata": {},
   "outputs": [],
   "source": [
    "# las string se pueden indexar y cortar con [ ]\n",
    "mi_texto = 'ABCDEFG'\n",
    "print(mi_texto[2])\n",
    "print(mi_texto[2:5])"
   ]
  },
  {
   "cell_type": "code",
   "execution_count": null,
   "metadata": {},
   "outputs": [],
   "source": [
    "mi_var = 5\n",
    "# 1. embeber variables\n",
    "print(f'aquí meto mi variable: {mi_var}')\n",
    "\n",
    "# 1b. otra forma de embeber variables\n",
    "print('aquí meto mi variable de otra forma: {}'.format(mi_var))\n",
    "\n",
    "# 1c. otra forma de embeber variables\n",
    "print('variable uno = {}, variable 2 = {}'.format(1,2))"
   ]
  },
  {
   "source": [
    "## B. Secuencias de escape básicas\n",
    "+ \\n         salto de línea\n",
    "+ \\\\         backslach\n",
    "+ \\'         single quote\n",
    "+ \\''        double quote\n",
    "+ \\t         tab\n",
    "\n",
    "## C. Encoding y decoding"
   ],
   "cell_type": "markdown",
   "metadata": {}
  },
  {
   "cell_type": "code",
   "execution_count": 7,
   "metadata": {},
   "outputs": [
    {
     "output_type": "execute_result",
     "data": {
      "text/plain": [
       "(b'Este es mi texto plano', 'Este es mi texto plano')"
      ]
     },
     "metadata": {},
     "execution_count": 7
    }
   ],
   "source": [
    "texto = \"Este es mi texto plano\"\n",
    "texto_encoded = texto.encode('utf-8') # pasa de texto a bytes\n",
    "texto_decoded = texto_encoded.decode('utf-8')\n",
    "texto_encoded, texto_decoded"
   ]
  },
  {
   "cell_type": "code",
   "execution_count": null,
   "metadata": {},
   "outputs": [],
   "source": []
  },
  {
   "source": [
    "## D. Métodos habituales"
   ],
   "cell_type": "markdown",
   "metadata": {}
  },
  {
   "cell_type": "code",
   "execution_count": 15,
   "metadata": {},
   "outputs": [
    {
     "output_type": "execute_result",
     "data": {
      "text/plain": [
       "['Esta es la primera linea de mi archivo Esta es la segunda linea y esta la tercera',\n",
       " 'sta es la',\n",
       " 'Esta es la primera linea de mi archivo Esta es la segunda linea y esta la tercera (agregado)',\n",
       " 'Esta es la primera linea de mi archivo esta es la segunda linea y esta la tercera',\n",
       " 'ESTA ES LA PRIMERA LINEA DE MI ARCHIVO ESTA ES LA SEGUNDA LINEA Y ESTA LA TERCERA',\n",
       " 'esta es la primera linea de mi archivo esta es la segunda linea y esta la tercera',\n",
       " 'eSTA ES LA PRIMERA LINEA DE MI ARCHIVO eSTA ES LA SEGUNDA LINEA Y ESTA LA TERCERA',\n",
       " 'Esta Es La Primera Linea De Mi Archivo Esta Es La Segunda Linea Y Esta La Tercera',\n",
       " 74,\n",
       " 3,\n",
       " 'Esta es la primera linea de mi archivo Esta es la segunda linea y esta la ultima',\n",
       " '000000000Esta es la primera linea de mi archivo Esta es la segunda linea y esta la tercera',\n",
       " ['Esta es la ',\n",
       "  'rimera linea de mi archivo Esta es la segunda linea y esta la tercera'],\n",
       " 'aXbXcXd',\n",
       " 'Este texto salta al final']"
      ]
     },
     "metadata": {},
     "execution_count": 15
    }
   ],
   "source": [
    "string = \"Esta es la primera linea de mi archivo Esta es la segunda linea y esta la tercera\"\n",
    "\n",
    "[string, \n",
    "\n",
    "# i. slicing\n",
    "string[1:10],\n",
    "\n",
    "# ii. concatenate\n",
    "string + \" (agregado)\",\n",
    "\n",
    "# iii. métodos de cambios de tipo\n",
    "string.capitalize(),\n",
    "string.upper(),\n",
    "string.lower(),\n",
    "string.swapcase(),\n",
    "string.title(),\n",
    "\n",
    "# iv. métodos de búsqueda\n",
    "string.find(\"tercera\"), # devuelve el index de comienzo de la substring.\n",
    "string.count('la'), # cuenta la cantidad de apariciones de una substring.\n",
    "\n",
    "# v. métodos de reemplazo y relleno\n",
    "string.replace('tercera','ultima'),\n",
    "string.zfill(90), # te completa la string con ceros al inicio hasta lograr longitud 90.\n",
    "\n",
    "# vi. métodos de split/join\n",
    "string.split('p'),\n",
    "'X'.join(['a','b', 'c','d']),\n",
    "\n",
    "# vii. métodos de formateado de texto\n",
    "\"Este texto no salta al final \\n\".strip()\n",
    "\n",
    "\n",
    "]"
   ]
  },
  {
   "source": [
    "## E. Funciones habituales"
   ],
   "cell_type": "markdown",
   "metadata": {}
  },
  {
   "cell_type": "code",
   "execution_count": 16,
   "metadata": {},
   "outputs": [
    {
     "output_type": "execute_result",
     "data": {
      "text/plain": [
       "str"
      ]
     },
     "metadata": {},
     "execution_count": 16
    }
   ],
   "source": [
    "# i. str() : conversión a string\n",
    "type(str(2))"
   ]
  },
  {
   "source": [
    "# ii. len() : me da la longitud del string\n",
    "len(\"abracadabra\")"
   ],
   "cell_type": "code",
   "metadata": {},
   "execution_count": 17,
   "outputs": [
    {
     "output_type": "execute_result",
     "data": {
      "text/plain": [
       "11"
      ]
     },
     "metadata": {},
     "execution_count": 17
    }
   ]
  }
 ]
}