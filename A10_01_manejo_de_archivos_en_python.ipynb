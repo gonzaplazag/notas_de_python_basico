{
 "metadata": {
  "language_info": {
   "codemirror_mode": {
    "name": "ipython",
    "version": 3
   },
   "file_extension": ".py",
   "mimetype": "text/x-python",
   "name": "python",
   "nbconvert_exporter": "python",
   "pygments_lexer": "ipython3",
   "version": "3.8.5-final"
  },
  "orig_nbformat": 2,
  "kernelspec": {
   "name": "python3",
   "display_name": "Python 3"
  }
 },
 "nbformat": 4,
 "nbformat_minor": 2,
 "cells": [
  {
   "source": [
    "# 10. Archivos y excepciones\n",
    "## A. Lectura desde Archivos\n",
    "\n",
    "### Apertura básica de un archivo"
   ],
   "cell_type": "markdown",
   "metadata": {}
  },
  {
   "cell_type": "code",
   "execution_count": 7,
   "metadata": {},
   "outputs": [
    {
     "output_type": "stream",
     "name": "stdout",
     "text": [
      "primera linea de mi archivo\nsegunda línea de mi archivo\ntercera línea de mi archivo.\n"
     ]
    }
   ],
   "source": [
    "# i. Forma básica de apertura de un archivo. Tiene el problema de administrar el cierre de la conexión.\n",
    "# carga del archivo en memoria. creación de un objeto del tipo TextIOWrapper\n",
    "archivo = open('A10_01_aux_manejo_de_archivos_en_python.txt')\n",
    "# Utilización del método read(), que devuelve el contenido de un archivo\n",
    "contenido = archivo.read()\n",
    "# impresión del contenido del archivo\n",
    "print(contenido)"
   ]
  },
  {
   "cell_type": "code",
   "execution_count": 9,
   "metadata": {},
   "outputs": [
    {
     "output_type": "stream",
     "name": "stdout",
     "text": [
      "primera linea de mi archivo\nsegunda línea de mi archivo\ntercera línea de mi archivo.\n"
     ]
    }
   ],
   "source": [
    "# ii. Forma recomendada de abrir un archivo. \n",
    "with open('A10_01_aux_manejo_de_archivos_en_python.txt') as archivo:\n",
    "    contenido = archivo.read()\n",
    "    print(contenido)"
   ]
  },
  {
   "source": [
    "### Lectura de archivos línea a línea"
   ],
   "cell_type": "markdown",
   "metadata": {}
  },
  {
   "cell_type": "code",
   "execution_count": 11,
   "metadata": {},
   "outputs": [
    {
     "output_type": "execute_result",
     "data": {
      "text/plain": [
       "['primera linea de mi archivo\\n',\n",
       " 'segunda línea de mi archivo\\n',\n",
       " 'tercera línea de mi archivo.']"
      ]
     },
     "metadata": {},
     "execution_count": 11
    }
   ],
   "source": [
    "# forma 1. Estandar. Un objeto del tipo TextIOWrapper itera sobre las líneas del contenido.Out\n",
    "filename = 'A10_01_aux_manejo_de_archivos_en_python.txt'\n",
    "\n",
    "resultado = list()\n",
    "\n",
    "with open(filename) as file_object:\n",
    "    for line in file_object:\n",
    "        resultado.append(line)\n",
    "\n",
    "resultado"
   ]
  },
  {
   "cell_type": "code",
   "execution_count": 13,
   "metadata": {},
   "outputs": [
    {
     "output_type": "execute_result",
     "data": {
      "text/plain": [
       "['primera linea de mi archivo',\n",
       " 'segunda línea de mi archivo',\n",
       " 'tercera línea de mi archivo.']"
      ]
     },
     "metadata": {},
     "execution_count": 13
    }
   ],
   "source": [
    "# variación: el método rstrip() limpia el final de cada line, no permitiendo la creación de espacios en blancol\n",
    "filename = 'A10_01_aux_manejo_de_archivos_en_python.txt'\n",
    "\n",
    "resultado = list()\n",
    "\n",
    "with open(filename) as file_object:\n",
    "    for line in file_object:\n",
    "        resultado.append(line.rstrip())\n",
    "\n",
    "resultado"
   ]
  },
  {
   "source": [
    "## B. Escritura en archivos"
   ],
   "cell_type": "markdown",
   "metadata": {}
  },
  {
   "cell_type": "code",
   "execution_count": 16,
   "metadata": {},
   "outputs": [
    {
     "output_type": "stream",
     "name": "stdout",
     "text": [
      "escritura de archivosss.\n"
     ]
    }
   ],
   "source": [
    "# i. Método básico de escritura. Sobreescribe!\n",
    "filename = 'A10_01_aux_manejo_de_archivos_en_python.txt'\n",
    "\n",
    "with open(filename, 'w') as file_object: # la bandera 'w' permite escribir\n",
    "    file_object.write('escritura de archivosss.')\n",
    "\n",
    "with open('A10_01_aux_manejo_de_archivos_en_python.txt') as archivo:\n",
    "    contenido = archivo.read()\n",
    "    print(contenido)"
   ]
  },
  {
   "cell_type": "code",
   "execution_count": 18,
   "metadata": {},
   "outputs": [
    {
     "output_type": "stream",
     "name": "stdout",
     "text": [
      "escritura de archivosss.escritura de archivosss.\n"
     ]
    }
   ],
   "source": [
    "# ii. Método básico de escritura. Append!\n",
    "filename = 'A10_01_aux_manejo_de_archivos_en_python.txt'\n",
    "\n",
    "with open(filename, 'a') as file_object: # la bandera 'r' permite agregar\n",
    "    file_object.write('escritura de archivosss.')\n",
    "\n",
    "with open('A10_01_aux_manejo_de_archivos_en_python.txt') as archivo:\n",
    "    contenido = archivo.read()\n",
    "    print(contenido)"
   ]
  }
 ]
}