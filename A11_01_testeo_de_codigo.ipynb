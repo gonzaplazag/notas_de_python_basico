{
 "metadata": {
  "language_info": {
   "codemirror_mode": {
    "name": "ipython",
    "version": 3
   },
   "file_extension": ".py",
   "mimetype": "text/x-python",
   "name": "python",
   "nbconvert_exporter": "python",
   "pygments_lexer": "ipython3",
   "version": "3.8.5-final"
  },
  "orig_nbformat": 2,
  "kernelspec": {
   "name": "python3",
   "display_name": "Python 3"
  }
 },
 "nbformat": 4,
 "nbformat_minor": 2,
 "cells": [
  {
   "source": [
    "# Testeo de código en Python\n",
    "\n",
    "Testear código implica la creación de ciertos test que aseguren que el código funciona como corresponde.\n",
    "\n",
    "Uno de los paquetes para realizar test el python es **unitest**.\n",
    "\n",
    "Se denominan **test unitarios** a aquellos que testean que un aspecto específico de una función funcione correctamente. Un conjunto de test unitarios se denominan **test case**, y en conjunto testean que la función realiza correctamente lo que debe realizar, en un marco amplio de situaciones posibles. \n",
    "\n",
    "Los *test case* deben incluir un amplio espectro de situaciones posibles. Se denomina test case con **full coverage** a aquel que posee una cantidad de test unitarios grande que cubran todas las situaciones de uso posibles. \n",
    "\n",
    "No se suelen generar test case *full coverage* desde el inicio. En la práctica, se construyen test que aseguren el buen comportamiento de aspectos críticos, y se amplía el espectro de testeo cuando un proyecto se empieza a consolidar.\n",
    "\n",
    "## A. Implementación de un test de funciones mediante UNITEST\n"
   ],
   "cell_type": "markdown",
   "metadata": {}
  },
  {
   "cell_type": "code",
   "execution_count": 2,
   "metadata": {},
   "outputs": [
    {
     "output_type": "stream",
     "name": "stdout",
     "text": [
      "Introducir nombre y apellido. Introduzca \"q\" en cualquier momento para salir\n",
      "\t\tNombre completo: F F.\n"
     ]
    }
   ],
   "source": [
    "# Ejemplo: definición de función que crea nombres\n",
    "def f_nombres(primer_nombre, apellido, segundo_nombre=''):\n",
    "    \"\"\"Genera el nombre completo, a partir del nombre y el apellido\"\"\"\n",
    "\n",
    "    if segundo_nombre:\n",
    "        n_completo = primer_nombre + ' ' + segundo_nombre + ' ' + apellido\n",
    "    else:\n",
    "        n_completo = primer_nombre + ' ' + apellido\n",
    "\n",
    "    return n_completo.title()\n",
    "\n",
    "# Utilización de la función en un contexto de uso\n",
    "print('Introducir nombre y apellido. Introduzca \"q\" en cualquier momento para salir')\n",
    "while True:\n",
    "    primer_nombre = input(\"\\nIntroducir primer nombre: \")\n",
    "    if primer_nombre == 'q':\n",
    "        break\n",
    "    apellido = input(\"\\nIntroducir el apellido: \")\n",
    "    if apellido == 'q':\n",
    "        break\n",
    "\n",
    "    n_completo = f_nombres(primer_nombre, apellido)\n",
    "    print(f'\\t\\tNombre completo: {n_completo}.')\n",
    "\n",
    "\n"
   ]
  },
  {
   "source": [
    "# Un test case se escribe de la siguiente forma\n",
    "\n",
    "# import unittest\n",
    "# from A11_01_auxiliar_testeo_1 import f_nombres\n",
    "# \n",
    "# class f_nombres_test_case(unittest.TestCase):\n",
    "#     '''Testeo de la función f_nombres.'''\n",
    "# \n",
    "#     def test_1_f_nombres(self):\n",
    "#         '''Verifica la función con el nombre \"Janis Joplin\"'''\n",
    "# \n",
    "#         caso = f_nombres('janis', 'Joplin')\n",
    "#         self.assertEqual(caso, \"Janis Joplin\")\n",
    "# \n",
    "#     def test_2_f_nombres(self):\n",
    "#         '''Verifica la función con un nombre intermedio \"Alberto Juan Perez'''\n",
    "# \n",
    "#         caso = f_nombres('Alberto', 'Perez', 'juan')\n",
    "#         self.assertEqual(caso, \"Alberto Juan Perez\")\n",
    "# \n",
    "# \n",
    "# unittest.main()\n",
    "\n",
    "# Se escribe cada unit test por separado, como método de la clase que representa en test-case."
   ],
   "cell_type": "code",
   "metadata": {},
   "execution_count": null,
   "outputs": []
  },
  {
   "source": [
    "## Assert Methods\n",
    "\n",
    "Los métodos *assert* son los que efectivamente realizan la comparación del resultado efectivo contra el esperado del test. Cubren varios casos de uso comunes.\n",
    "\n",
    "\n",
    "\n",
    "# ![title](img/im1_testeo.png)"
   ],
   "cell_type": "markdown",
   "metadata": {}
  },
  {
   "source": [
    "## C. Implementación de un test de clases mediante UNITEST\n",
    "\n",
    "\n",
    "\n"
   ],
   "cell_type": "markdown",
   "metadata": {}
  },
  {
   "cell_type": "code",
   "execution_count": null,
   "metadata": {},
   "outputs": [],
   "source": [
    "### Ejemplo de test de clases\n",
    "# \n",
    "# import unittest\n",
    "# from A11_01_auxiliar_testeo_1 import AnonimousSurvey\n",
    "#\n",
    "#\n",
    "# class TestAnonimousSurvey(unittest.TestCase):\n",
    "#     \"\"\"Test for the class AnonimousSurvey\"\"\"\n",
    "#\n",
    "#     def test_store_single_response(self):\n",
    "#         \"\"\"Test that a single response is stored properly.\"\"\"\n",
    "#         question = \"What language did you first learn to speak?\"\n",
    "#         my_survey = AnonimousSurvey(question)\n",
    "#         my_survey.store_response('Spanish')\n",
    "#\n",
    "#         self.assertIn('Spanish', my_survey.responses)\n",
    "#\n",
    "#     def test_store_three_responses(self):\n",
    "#         \"\"\"Test that three individual responses are stored properly\"\"\"\n",
    "#         question = \"What language did you first learn to speak?\"\n",
    "#         my_survey = AnonimousSurvey(question)\n",
    "#         responses = ['Spanish', 'English', 'Japanese']\n",
    "#         for response in responses:\n",
    "#             my_survey.store_response(response)\n",
    "#\n",
    "#         for response in responses:\n",
    "#             self.assertIn(response, my_survey.responses)\n",
    "#\n",
    "#\n",
    "# unittest.main()\n",
    "\n",
    "\n",
    "### Ejemplo de test de clases, utiilizando el método setUp()\n",
    "import unittest\n",
    "from A11_01_auxiliar_testeo_1 import AnonimousSurvey\n",
    "\n",
    "\n",
    "class TestAnonimousSurvey(unittest.TestCase):\n",
    "    \"\"\"Test for the case anonymoussurvey\"\"\"\n",
    "\n",
    "    def setUp(self):\n",
    "        \"\"\"Create a survey and a set of responses for use in all test methods\"\"\"\n",
    "        question = \"What language did you first learn to speak?\"\n",
    "        self.my_survey = AnonimousSurvey(question)\n",
    "        self.responses = ['English', 'Spanish', 'Japanese']\n",
    "\n",
    "    def test_store_single_response(self):\n",
    "        \"\"\"Test that a single response is stored properly.\"\"\"\n",
    "        self.my_survey.store_response(self.responses[0])\n",
    "        self.assertIn(self.responses[0], self.my_survey.responses)\n",
    "\n",
    "    def test_store_three_responses(self):\n",
    "        \"\"\" Test that three individual responses are stored properly\"\"\"\n",
    "        for response in self.responses:\n",
    "            self.my_survey.store_response(response)\n",
    "        for response in self.responses:\n",
    "            self.assertIn(response, self.my_survey.responses)\n",
    "\n",
    "\n",
    "unittest.main()"
   ]
  }
 ]
}