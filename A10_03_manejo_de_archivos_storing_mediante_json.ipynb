{
 "metadata": {
  "language_info": {
   "codemirror_mode": {
    "name": "ipython",
    "version": 3
   },
   "file_extension": ".py",
   "mimetype": "text/x-python",
   "name": "python",
   "nbconvert_exporter": "python",
   "pygments_lexer": "ipython3",
   "version": "3.8.5-final"
  },
  "orig_nbformat": 2,
  "kernelspec": {
   "name": "python3",
   "display_name": "Python 3"
  }
 },
 "nbformat": 4,
 "nbformat_minor": 2,
 "cells": [
  {
   "source": [
    "# Storing mediante JSON\n",
    "\n",
    "El formato json permite guardar las estructuras de datos de python (listas y diccionarios) en un archivo externo, para después cargar dichos datos.\n",
    "\n",
    "Se utiliza el módulo JSON."
   ],
   "cell_type": "markdown",
   "metadata": {}
  },
  {
   "cell_type": "code",
   "execution_count": 4,
   "metadata": {},
   "outputs": [
    {
     "output_type": "execute_result",
     "data": {
      "text/plain": [
       "[1, 2, 3, 4, 5]"
      ]
     },
     "metadata": {},
     "execution_count": 4
    }
   ],
   "source": [
    "# escritura mediante json.dump()\n",
    "import json\n",
    "numbers = [1,2,3,4,5]\n",
    "filename = \"A10_03_aux_1_manejo_de_archivos_storing_mediante_json.json\"\n",
    "with open(filename, 'w') as obj:\n",
    "    json.dump(numbers, obj)\n",
    "\n",
    "# lectura mediante json.load()\n",
    "with open(filename) as c_obj:\n",
    "    reentrada = json.load(c_obj)\n",
    "\n",
    "reentrada"
   ]
  }
 ]
}